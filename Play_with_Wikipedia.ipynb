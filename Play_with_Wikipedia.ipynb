{
  "nbformat": 4,
  "nbformat_minor": 0,
  "metadata": {
    "colab": {
      "provenance": [],
      "authorship_tag": "ABX9TyP0ddlkIheIoNLOO/9qAYsi",
      "include_colab_link": true
    },
    "kernelspec": {
      "name": "python3",
      "display_name": "Python 3"
    },
    "language_info": {
      "name": "python"
    }
  },
  "cells": [
    {
      "cell_type": "markdown",
      "metadata": {
        "id": "view-in-github",
        "colab_type": "text"
      },
      "source": [
        "<a href=\"https://colab.research.google.com/github/AndreusSH/playwithWikipedia/blob/main/Play_with_Wikipedia.ipynb\" target=\"_parent\"><img src=\"https://colab.research.google.com/assets/colab-badge.svg\" alt=\"Open In Colab\"/></a>"
      ]
    },
    {
      "cell_type": "code",
      "execution_count": null,
      "metadata": {
        "id": "ZZk55gjm0nYv"
      },
      "outputs": [],
      "source": [
        "from bs4 import BeautifulSoup\n",
        "import requests"
      ]
    },
    {
      "cell_type": "code",
      "source": [
        "url = \"https://en.wikipedia.org/wiki/List_of_national_capitals\""
      ],
      "metadata": {
        "id": "IE_XjTxM2Ic0"
      },
      "execution_count": null,
      "outputs": []
    },
    {
      "cell_type": "code",
      "source": [
        "r = requests.get(url)\n"
      ],
      "metadata": {
        "id": "Y4AF0pFE2RAB"
      },
      "execution_count": null,
      "outputs": []
    },
    {
      "cell_type": "code",
      "source": [
        "soup = BeautifulSoup(r.content, \"html.parser\")\n",
        "table = soup.find_all('table')[1]\n",
        "rows = table.find_all('tr')\n",
        "row_list = list()"
      ],
      "metadata": {
        "id": "XYIbabAc2etk"
      },
      "execution_count": null,
      "outputs": []
    },
    {
      "cell_type": "code",
      "source": [
        "for tr in rows:\n",
        "    td = tr.find_all('td')\n",
        "    row = [i.text for i in td]\n",
        "    row_list.append(row)"
      ],
      "metadata": {
        "id": "8RY2r0Bs2sds"
      },
      "execution_count": null,
      "outputs": []
    },
    {
      "cell_type": "code",
      "source": [
        "import pandas as pd\n",
        "df_bs = pd.DataFrame(row_list,columns=['City','Country','Notes'])\n",
        "df_bs.set_index('Country',inplace=True)\n",
        "csv_capitals = df_bs.to_csv('beautifulsoup.csv')"
      ],
      "metadata": {
        "id": "aZe7mJ8j2xRA"
      },
      "execution_count": null,
      "outputs": []
    },
    {
      "cell_type": "code",
      "source": [
        "pd.read_csv('beautifulsoup.csv')"
      ],
      "metadata": {
        "id": "CCQZhQIA3i_g"
      },
      "execution_count": null,
      "outputs": []
    }
  ]
}